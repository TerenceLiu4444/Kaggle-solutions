{
 "cells": [
  {
   "cell_type": "code",
   "execution_count": 1,
   "metadata": {},
   "outputs": [],
   "source": [
    "import os\n",
    "\n",
    "import numpy as np\n",
    "import pandas as pd\n",
    "from tqdm import tqdm_notebook\n",
    "from multiprocessing import Pool"
   ]
  },
  {
   "cell_type": "code",
   "execution_count": 2,
   "metadata": {},
   "outputs": [],
   "source": [
    "from PIL import Image\n",
    "import cv2\n",
    "\n",
    "fast = cv2.FastFeatureDetector_create()\n",
    "sift = cv2.xfeatures2d.SIFT_create()\n",
    "def keyp(img):\n",
    "    try:            \n",
    "        # find and draw the keypoints\n",
    "        kp = fast.detect(img,None)\n",
    "        kp =len(kp)\n",
    "        return kp\n",
    "    except:\n",
    "        return 0\n",
    "\n",
    "def sift(img):\n",
    "    try:\n",
    "        kp = sift.detect(img,None)\n",
    "        kp = len(kp)\n",
    "        return kp\n",
    "    except:\n",
    "        return 0\n",
    "    "
   ]
  },
  {
   "cell_type": "code",
   "execution_count": 3,
   "metadata": {
    "collapsed": true
   },
   "outputs": [],
   "source": [
    "images_dir_tr = '../input/train_jpg/'\n",
    "images_dir_te = '../input/test_jpg/'"
   ]
  },
  {
   "cell_type": "code",
   "execution_count": 4,
   "metadata": {},
   "outputs": [
    {
     "name": "stderr",
     "output_type": "stream",
     "text": [
      "1390832it [00:12, 115737.09it/s]\n",
      "465829it [00:05, 90555.34it/s]\n"
     ]
    }
   ],
   "source": [
    "from tqdm import tqdm\n",
    "\n",
    "image_files_tr = [x.path for x in tqdm(os.scandir(images_dir_tr))]\n",
    "image_files_te = [x.path for x in tqdm(os.scandir(images_dir_te))]\n",
    "image_files = image_files_tr+image_files_te"
   ]
  },
  {
   "cell_type": "code",
   "execution_count": 16,
   "metadata": {
    "collapsed": true
   },
   "outputs": [],
   "source": [
    "from collections import Counter\n",
    "from pprint import pprint\n",
    "\n",
    "import pandas as pd\n",
    "import numpy as np\n",
    "\n",
    "import matplotlib.pyplot as plt\n",
    "\n",
    "def classify_and_plot(img,cv_img,cv_img_rgb,image_path):\n",
    "    \"\"\"Classify an image with different models.\n",
    "    Plot it and its predicitons.\n",
    "    \"\"\"\n",
    "    kp = keyp(cv_img)\n",
    "    sf = sift(cv_img)\n",
    "    img_id = image_path[(image_path.rfind('/')+1):-4]\n",
    "    return (img, cv_img, cv_img_rgb, kp, sf, img_id)\n",
    "\n",
    "def get_data_from_image(dat):\n",
    "    img_size = [dat[0].size[0], dat[0].size[1]]\n",
    "    (means, stds) = cv2.meanStdDev(dat[2])\n",
    "    mean_color = np.mean(dat[2].flatten())\n",
    "    std_color = np.std(dat[2].flatten())\n",
    "    color_stats = np.concatenate([means, stds]).flatten()\n",
    "    \n",
    "    #print(len(color_stats.tolist()))\n",
    "    df = pd.DataFrame([img_size+ [mean_color] + [std_color] + color_stats.tolist() +[dat[3]]+[dat[4]]+[dat[5]]],\n",
    "                      columns = ['img_size_x', 'img_size_y', 'img_mean_color', 'img_std_color', 'img_blue_mean', \n",
    "                                 'img_green_mean', 'img_red_mean', 'img_blue_std', 'image_green_std', \n",
    "                                 'image_red_std', 'kp','sf','image'])\n",
    "    return df\n",
    "\n"
   ]
  },
  {
   "cell_type": "code",
   "execution_count": 17,
   "metadata": {
    "collapsed": true
   },
   "outputs": [],
   "source": [
    "def process(img_path):\n",
    "    img = Image.open(img_path)\n",
    "    cv_img = cv2.imread(img_path,0)\n",
    "    cv_img_rgb = cv2.imread(img_path)\n",
    "    dat = classify_and_plot(img, cv_img,cv_img_rgb,img_path)\n",
    "    #print(img_path)\n",
    "    df = get_data_from_image(dat)\n",
    "    return df"
   ]
  },
  {
   "cell_type": "code",
   "execution_count": 19,
   "metadata": {},
   "outputs": [
    {
     "data": {
      "application/vnd.jupyter.widget-view+json": {
       "model_id": "8a0374a8e47647bdac2d2c063a6ffa0c",
       "version_major": 2,
       "version_minor": 0
      },
      "text/plain": [
       "A Jupyter Widget"
      ]
     },
     "metadata": {},
     "output_type": "display_data"
    }
   ],
   "source": [
    "with Pool(8) as p:\n",
    "    df_list = list(tqdm_notebook(p.imap(process,image_files),total=len(image_files)))"
   ]
  },
  {
   "cell_type": "code",
   "execution_count": 21,
   "metadata": {},
   "outputs": [
    {
     "data": {
      "text/plain": [
       "1856661"
      ]
     },
     "execution_count": 21,
     "metadata": {},
     "output_type": "execute_result"
    }
   ],
   "source": [
    "len(df_list)"
   ]
  },
  {
   "cell_type": "code",
   "execution_count": 32,
   "metadata": {},
   "outputs": [
    {
     "name": "stdout",
     "output_type": "stream",
     "text": [
      "0\n",
      "1\n",
      "2\n",
      "3\n",
      "4\n",
      "5\n",
      "6\n",
      "7\n",
      "8\n",
      "9\n",
      "10\n",
      "11\n",
      "12\n",
      "13\n",
      "14\n",
      "15\n",
      "16\n",
      "17\n",
      "18\n",
      "19\n",
      "20\n",
      "21\n",
      "22\n",
      "23\n",
      "24\n",
      "25\n",
      "26\n",
      "27\n",
      "28\n",
      "29\n",
      "30\n",
      "31\n",
      "32\n",
      "33\n",
      "34\n",
      "35\n",
      "36\n",
      "37\n",
      "38\n",
      "39\n",
      "40\n",
      "41\n",
      "42\n",
      "43\n",
      "44\n",
      "45\n",
      "46\n",
      "47\n",
      "48\n",
      "49\n",
      "50\n",
      "51\n",
      "52\n",
      "53\n",
      "54\n",
      "55\n",
      "56\n",
      "57\n",
      "58\n",
      "59\n",
      "60\n",
      "61\n",
      "62\n",
      "63\n",
      "64\n",
      "65\n",
      "66\n",
      "67\n",
      "68\n",
      "69\n",
      "70\n",
      "71\n",
      "72\n",
      "73\n",
      "74\n",
      "75\n",
      "76\n",
      "77\n",
      "78\n",
      "79\n",
      "80\n",
      "81\n",
      "82\n",
      "83\n",
      "84\n",
      "85\n",
      "86\n",
      "87\n",
      "88\n",
      "89\n",
      "90\n",
      "91\n",
      "92\n",
      "93\n",
      "94\n",
      "95\n",
      "96\n",
      "97\n",
      "98\n",
      "99\n",
      "100\n",
      "101\n",
      "102\n",
      "103\n",
      "104\n",
      "105\n",
      "106\n",
      "107\n",
      "108\n",
      "109\n",
      "110\n",
      "111\n",
      "112\n",
      "113\n",
      "114\n",
      "115\n",
      "116\n",
      "117\n",
      "118\n",
      "119\n",
      "120\n",
      "121\n",
      "122\n",
      "123\n",
      "124\n",
      "125\n",
      "126\n",
      "127\n",
      "128\n",
      "129\n",
      "130\n",
      "131\n",
      "132\n",
      "133\n",
      "134\n",
      "135\n",
      "136\n",
      "137\n",
      "138\n",
      "139\n",
      "140\n",
      "141\n",
      "142\n",
      "143\n",
      "144\n",
      "145\n",
      "146\n",
      "147\n",
      "148\n",
      "149\n",
      "150\n",
      "151\n",
      "152\n",
      "153\n",
      "154\n",
      "155\n",
      "156\n",
      "157\n",
      "158\n",
      "159\n",
      "160\n",
      "161\n",
      "162\n",
      "163\n",
      "164\n",
      "165\n",
      "166\n",
      "167\n",
      "168\n",
      "169\n",
      "170\n",
      "171\n",
      "172\n",
      "173\n",
      "174\n",
      "175\n",
      "176\n",
      "177\n",
      "178\n",
      "179\n",
      "180\n",
      "181\n",
      "182\n",
      "183\n",
      "184\n",
      "185\n"
     ]
    }
   ],
   "source": [
    "for i in range(186):\n",
    "    print(i)\n",
    "    idx = i*10000\n",
    "    pd.concat(df_list[idx:(idx+10000)],axis=0).to_csv('../features-0625/img_fe_'+str(i)+'.csv',index=None)"
   ]
  },
  {
   "cell_type": "code",
   "execution_count": 33,
   "metadata": {},
   "outputs": [],
   "source": [
    "fes = os.listdir('../features-0625/')"
   ]
  },
  {
   "cell_type": "code",
   "execution_count": 35,
   "metadata": {},
   "outputs": [
    {
     "name": "stderr",
     "output_type": "stream",
     "text": [
      "100%|██████████| 186/186 [00:08<00:00, 21.89it/s]\n"
     ]
    }
   ],
   "source": [
    "df_chunks = []\n",
    "for file in tqdm(fes):\n",
    "    df_chunks.append(pd.read_csv('../features-0625/'+file))"
   ]
  },
  {
   "cell_type": "code",
   "execution_count": 36,
   "metadata": {
    "collapsed": true
   },
   "outputs": [],
   "source": [
    "df_final = pd.concat(df_chunks,axis=0)"
   ]
  },
  {
   "cell_type": "code",
   "execution_count": 40,
   "metadata": {},
   "outputs": [],
   "source": [
    "df_final.to_csv('img_features_keypoint.csv',index=None)"
   ]
  },
  {
   "cell_type": "code",
   "execution_count": null,
   "metadata": {
    "collapsed": true
   },
   "outputs": [],
   "source": []
  }
 ],
 "metadata": {
  "kernelspec": {
   "display_name": "Python 3",
   "language": "python",
   "name": "python3"
  },
  "language_info": {
   "codemirror_mode": {
    "name": "ipython",
    "version": 3
   },
   "file_extension": ".py",
   "mimetype": "text/x-python",
   "name": "python",
   "nbconvert_exporter": "python",
   "pygments_lexer": "ipython3",
   "version": "3.6.3"
  }
 },
 "nbformat": 4,
 "nbformat_minor": 2
}
